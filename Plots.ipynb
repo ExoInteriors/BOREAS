{
 "cells": [
  {
   "cell_type": "code",
   "execution_count": null,
   "metadata": {},
   "outputs": [],
   "source": [
    "from pathlib import Path\n",
    "import pandas as pd\n",
    "\n",
    "from Results_Handler import ResultsHandler"
   ]
  },
  {
   "cell_type": "code",
   "execution_count": null,
   "metadata": {},
   "outputs": [],
   "source": [
    "%matplotlib widget"
   ]
  },
  {
   "cell_type": "code",
   "execution_count": null,
   "metadata": {},
   "outputs": [],
   "source": [
    "base_dir = Path('/Users/mvalatsou/PhD/Repos/MR_perplex/OUTPUT')\n",
    "\n",
    "df_superEarth       = pd.read_csv(base_dir / '3H2O_superEarth.csv')\n",
    "df_subNeptune       = pd.read_csv(base_dir / '3HHe_subNeptune.csv')\n",
    "df_subNeptune_10H2O = pd.read_csv(base_dir / '3HHe_10H2O_subNeptune.csv')\n",
    "df_subNeptune_20H2O = pd.read_csv(base_dir / '3HHe_20H2O_subNeptune.csv')\n",
    "df_subNeptune_50H2O = pd.read_csv(base_dir / '3HHe_50H2O_subNeptune.csv')\n",
    "df_subNeptune_70H2O = pd.read_csv(base_dir / '3HHe_70H2O_subNeptune.csv')\n",
    "df_subNeptune_90H2O = pd.read_csv(base_dir / '3HHe_90H2O_subNeptune.csv')\n",
    "\n",
    "df_superEarth[\"planet_type\"]       = \"super-Earths (3% WMF)\"\n",
    "df_subNeptune[\"planet_type\"]       = \"sub-Neptunes (3% AMF, H/He)\"\n",
    "df_subNeptune_10H2O[\"planet_type\"] = \"sub-Neptunes (10% H2O)\"\n",
    "df_subNeptune_20H2O[\"planet_type\"] = \"sub-Neptunes (20% H2O)\"\n",
    "df_subNeptune_50H2O[\"planet_type\"] = \"sub-Neptunes (50% H2O)\"\n",
    "df_subNeptune_70H2O[\"planet_type\"] = \"sub-Neptunes (70% H2O)\"\n",
    "df_subNeptune_90H2O[\"planet_type\"] = \"sub-Neptunes (90% H2O)\"\n",
    "\n",
    "df_combined = pd.concat([df_superEarth, df_subNeptune, df_subNeptune_10H2O, df_subNeptune_20H2O,\n",
    "                         df_subNeptune_50H2O, df_subNeptune_70H2O, df_subNeptune_90H2O], ignore_index=True) # combine dfs\n",
    "# df_combined.to_csv('/Users/mvalatsou/PhD/Repos/MR_perplex/OUTPUT/combined.csv', index=False)\n",
    "print(df_combined.shape)"
   ]
  },
  {
   "cell_type": "code",
   "execution_count": null,
   "metadata": {},
   "outputs": [],
   "source": [
    "ResultsHandler.regime_scatter(df_combined) # to quickly check which regimes we have in our models"
   ]
  },
  {
   "cell_type": "code",
   "execution_count": null,
   "metadata": {},
   "outputs": [],
   "source": [
    "ResultsHandler.Mdot_FEUV(df_combined)"
   ]
  },
  {
   "cell_type": "code",
   "execution_count": null,
   "metadata": {},
   "outputs": [],
   "source": [
    "# ResultsHandler.radius_FEUV_oxygen_contour_by_planet_type(df_combined)\n",
    "# ResultsHandler.mass_FEUV_oxygen_contour_by_planet_type(df_combined)\n",
    "ResultsHandler.radius_FEUV_oxygen_contour(df_combined)\n",
    "ResultsHandler.mass_FEUV_oxygen_contour(df_combined)"
   ]
  },
  {
   "cell_type": "code",
   "execution_count": null,
   "metadata": {},
   "outputs": [],
   "source": [
    "ResultsHandler.oxygen_indicators_planets(df_combined)\n",
    "ResultsHandler.atomic_escape(df_combined)"
   ]
  },
  {
   "cell_type": "code",
   "execution_count": null,
   "metadata": {},
   "outputs": [],
   "source": [
    "ResultsHandler.Radius_FXUV_PEUV(df_combined)"
   ]
  },
  {
   "cell_type": "code",
   "execution_count": null,
   "metadata": {},
   "outputs": [],
   "source": []
  }
 ],
 "metadata": {
  "kernelspec": {
   "display_name": "base",
   "language": "python",
   "name": "python3"
  },
  "language_info": {
   "codemirror_mode": {
    "name": "ipython",
    "version": 3
   },
   "file_extension": ".py",
   "mimetype": "text/x-python",
   "name": "python",
   "nbconvert_exporter": "python",
   "pygments_lexer": "ipython3",
   "version": "3.12.2"
  }
 },
 "nbformat": 4,
 "nbformat_minor": 2
}
