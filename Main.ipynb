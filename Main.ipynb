{
 "cells": [
  {
   "cell_type": "code",
   "execution_count": 1,
   "metadata": {},
   "outputs": [],
   "source": [
    "from Parameters import ModelParams\n",
    "from Model_Data_Loader import ModelDataLoader\n",
    "from Star_Parameters_Class import StarParams\n",
    "from Mass_Loss_Class import MassLoss\n",
    "from Fractionation_Class import Fractionation\n",
    "from Misc_Class import Misc\n",
    "\n",
    "import numpy as np\n",
    "import pandas as pd\n",
    "import json"
   ]
  },
  {
   "cell_type": "code",
   "execution_count": 2,
   "metadata": {},
   "outputs": [],
   "source": [
    "# ---------- Initialize parameters and classes ----------\n",
    "params = ModelParams()\n",
    "mearth = params.mearth\n",
    "rearth = params.rearth\n",
    "mass_loss = MassLoss(params)\n",
    "fractionation = Fractionation(params)\n",
    "star_params = StarParams(params)\n",
    "misc = Misc(params)\n",
    "loader = ModelDataLoader('/Users/mvalatsou/PhD/Repos/MR_perplex/OUTPUT/', params)"
   ]
  },
  {
   "cell_type": "code",
   "execution_count": 5,
   "metadata": {},
   "outputs": [
    {
     "name": "stdout",
     "output_type": "stream",
     "text": [
      "Updated FEUV for TRAPPIST-1 d: 7.88e+02 erg cm-2 s-1\n",
      "Unique Teq values found: [286.2]\n",
      "\n",
      "Processing group with Teq = 286.2 K and Fbol = 1630472.4652794236\n",
      "\n",
      " Running model with FEUV = 788.455 erg/cm^2/s\n",
      "Converged in 2 iterations for planet 0.4 M_earth.\n",
      "Final mmw_outflow = 1.0\n",
      "Planet with mass=0.39 M_earth results: Mdot = 172117671.1370734\n",
      "Planet with mass=0.39 M_earth results: phi_O = 7.551179888817771e-55, phi_H = 5.0008509634158904e-11, x_O = 6.039915961550551e-44\n",
      "\n",
      "Mdot = 172117671.1370734\n"
     ]
    }
   ],
   "source": [
    "# ---------- Load data ----------\n",
    "### option 1\n",
    "# mass, radius, Teq = loader.load_single_ddat_file('3HHe_10H2O_subNeptune.ddat')\n",
    "\n",
    "### option 2\n",
    "with open(\"planet_params.json\", \"r\") as file:\n",
    "    planet_params = json.load(file)\n",
    "selected_planet = \"TRAPPIST-1 e\"                     # change the planet here\n",
    "\n",
    "if selected_planet in planet_params:\n",
    "    new_FEUV = planet_params[selected_planet][\"FEUV\"]\n",
    "    params.update_param(\"FEUV\", new_FEUV)\n",
    "    print(f\"Updated FEUV for {selected_planet}: {params.get_param('FEUV'):.2e} erg cm-2 s-1\")\n",
    "else:\n",
    "    print(f\"Make sure the planet you selected exists in the list! Check the spelling.\")\n",
    "\n",
    "radius = np.array([planet_params[selected_planet][\"radius\"] * rearth]) # cm\n",
    "mass = np.array([planet_params[selected_planet][\"mass\"] * mearth]) # g\n",
    "Teq = np.array([planet_params[selected_planet][\"teq\"]]) # K\n",
    "\n",
    "# ---------- Find unique temperatures ----------\n",
    "unique_Teqs = np.unique(Teq)\n",
    "print(\"Unique Teq values found:\", unique_Teqs)\n",
    "\n",
    "# ---------- Range of EUV flux values ----------\n",
    "all_flux_results = []\n",
    "\n",
    "for Teq_val in unique_Teqs:\n",
    "    star_params.update_param(\"Teq\", Teq_val)\n",
    "    Fbol = star_params.get_Fbol_from_Teq()\n",
    "    # flux_range = star_params.get_FEUV_range_any_age()   # if option 1 from load data\n",
    "    flux_range = [params.get_param('FEUV')]             # if option 2 from load data (.json file)\n",
    "\n",
    "    mask = np.isclose(Teq, Teq_val)\n",
    "    mass_group = mass[mask]\n",
    "    radius_group = radius[mask]\n",
    "    teq_group = Teq[mask]\n",
    "    print(f\"\\nProcessing group with Teq = {Teq_val} K and Fbol = {Fbol}\")\n",
    "\n",
    "    # ---------- Execute ----------\n",
    "    for flux in flux_range:\n",
    "        print(f\"\\n Running model with FEUV = {flux} erg/cm^2/s\")\n",
    "        params.update_param('FEUV', flux)\n",
    "\n",
    "        # ---------- Mass loss model ----------\n",
    "        mass_loss_results = mass_loss.compute_mass_loss_parameters(mass_group, radius_group, teq_group, pureHHe=True)\n",
    "        results_for_this_flux = {'FEUV': flux, 'Teq': Teq_val, 'Fbol': Fbol, 'end_results': mass_loss_results}\n",
    "        # mdot = mass_loss_results[0]['Mdot']\n",
    "        # print(f\"Mdot =\", mdot)\n",
    "        \n",
    "        # ---------- Fractionation model ----------\n",
    "        fractionation_results = fractionation.execute_self_consistent_fractionation(mass_loss_results, mass_loss, misc, params)\n",
    "        results_for_this_flux = {'FEUV': flux, 'Teq': Teq_val, 'Fbol': Fbol, 'end_results': fractionation_results}\n",
    "        mdot = fractionation_results[0]['Mdot']\n",
    "        print(f\"Mdot =\", mdot)\n",
    "        \n",
    "        all_flux_results.append(results_for_this_flux)"
   ]
  },
  {
   "cell_type": "code",
   "execution_count": null,
   "metadata": {},
   "outputs": [],
   "source": [
    "# save data for plotting\n",
    "rows = []\n",
    "\n",
    "for flux_data in all_flux_results:\n",
    "    for res in flux_data['end_results']:\n",
    "        # include FEUV, Teq and Fbol from the outer dict\n",
    "        record = {\n",
    "            'FEUV':  flux_data['FEUV'],\n",
    "            'Teq':   flux_data['Teq'],\n",
    "            'Fbol':  flux_data['Fbol'],\n",
    "        }\n",
    "        record.update(res)\n",
    "        rows.append(record)\n",
    "\n",
    "df = pd.DataFrame(rows)\n",
    "df.to_csv('/Users/mvalatsou/PhD/Repos/MR_perplex/OUTPUT/3HHe_10H2O_subNeptune.csv', index=False)"
   ]
  },
  {
   "cell_type": "code",
   "execution_count": null,
   "metadata": {},
   "outputs": [],
   "source": []
  }
 ],
 "metadata": {
  "kernelspec": {
   "display_name": "base",
   "language": "python",
   "name": "python3"
  },
  "language_info": {
   "codemirror_mode": {
    "name": "ipython",
    "version": 3
   },
   "file_extension": ".py",
   "mimetype": "text/x-python",
   "name": "python",
   "nbconvert_exporter": "python",
   "pygments_lexer": "ipython3",
   "version": "3.11.11"
  }
 },
 "nbformat": 4,
 "nbformat_minor": 4
}
