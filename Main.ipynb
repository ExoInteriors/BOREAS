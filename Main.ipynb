{
 "cells": [
  {
   "cell_type": "code",
   "execution_count": null,
   "metadata": {},
   "outputs": [],
   "source": [
    "import json\n",
    "import numpy as np\n",
    "import pandas as pd\n",
    "import matplotlib.pyplot as plt\n",
    "from scipy.optimize import fsolve\n",
    "\n",
    "from Parameters import ModelParams\n",
    "from Mass_Loss_Class import MassLoss\n",
    "from Fractionation_Class import Fractionation\n",
    "from Model_Data_Loader import ModelDataLoader\n",
    "from Results_Handler import ResultsHandler\n",
    "from Misc_Class import Misc"
   ]
  },
  {
   "cell_type": "code",
   "execution_count": null,
   "metadata": {},
   "outputs": [],
   "source": [
    "%matplotlib widget"
   ]
  },
  {
   "cell_type": "code",
   "execution_count": null,
   "metadata": {},
   "outputs": [],
   "source": [
    "def main():\n",
    "\n",
    "    # ---------- Initialize parameters and classes ----------\n",
    "    params = ModelParams()\n",
    "    base_path = '/Users/mvalatsou/PhD/Repos/MR_perplex/OUTPUT/CW/critical_WMF/gridmin295/'\n",
    "    data_loader = ModelDataLoader(base_path)\n",
    "    mass_loss = MassLoss(params)\n",
    "    fractionation = Fractionation(params)\n",
    "    misc = Misc(params)\n",
    "\n",
    "    # ---------- Load data ----------\n",
    "    m_planet = [0.5, 1, 2, 3, 4, 5, 6, 7, 8, 9, 10, 11, 12, 13, 14, 15]\n",
    "    water_percent = [x / 10 for x in range(1, 81)]\n",
    "    radius, mass, Teq = data_loader.load_model_data(m_planet, water_percent)\n",
    "    \n",
    "    # ---------- OR select a planet and also change the EUV flux accordingly ----------\n",
    "    # ---------- OR manualy set these parameters ----------\n",
    "\n",
    "    # with open(\"planet_params.json\", \"r\") as file:\n",
    "    #     planet_params = json.load(file)\n",
    "    # selected_planet = \"Kepler-36 c\"\n",
    "\n",
    "    # if selected_planet in planet_params:\n",
    "    #     new_feuv = planet_params[selected_planet][\"FEUV\"]\n",
    "    #     params.update_param(\"FEUV\", new_feuv)\n",
    "    #     print(f\"Updated FEUV for {selected_planet}: {params.get_param('FEUV'):.2e} erg cm⁻² s⁻¹\")\n",
    "    # else:\n",
    "    #     print(f\"Make sure the planet you selected exists in the list! Check the spelling.\")\n",
    "\n",
    "    # mearth = params.mearth\n",
    "    # rearth = params.rearth\n",
    "    # radius = [planet_params[selected_planet][\"radius\"] * rearth] # cm\n",
    "    # mass = [planet_params[selected_planet][\"mass\"] * mearth] # g\n",
    "    # Teq = [planet_params[selected_planet][\"teq\"]] # K\n",
    "\n",
    "    # ---------- Mass loss model ----------\n",
    "    mass_loss_results = mass_loss.compute_mass_loss_parameters(mass, radius, Teq)\n",
    "\n",
    "    # ---------- Fractionation model ----------\n",
    "    # fractionation_results = fractionation.execute_fractionation(mass_loss_results, misc)\n",
    "\n",
    "    # ---------- Fractionation model with feedback loop ----------\n",
    "    fractionation_results = fractionation.execute_self_consistent_fractionation(mass_loss_results, mass_loss, misc, params)\n",
    "\n",
    "    ResultsHandler.plot_cs_REUV(fractionation_results)\n",
    "    # ResultsHandler.plot_combined_T_P(fractionation_results)\n",
    "    ResultsHandler.plot_phiH_phiO_vs_REUV(fractionation_results)\n",
    "    # ResultsHandler.plot_radii_comparison(fractionation_results)\n",
    "    # ResultsHandler.water_loss_over_time(fractionation_results)\n",
    "\n",
    "if __name__ == \"__main__\":\n",
    "   main()"
   ]
  },
  {
   "cell_type": "code",
   "execution_count": null,
   "metadata": {},
   "outputs": [],
   "source": []
  }
 ],
 "metadata": {
  "kernelspec": {
   "display_name": "Python 3",
   "language": "python",
   "name": "python3"
  },
  "language_info": {
   "codemirror_mode": {
    "name": "ipython",
    "version": 3
   },
   "file_extension": ".py",
   "mimetype": "text/x-python",
   "name": "python",
   "nbconvert_exporter": "python",
   "pygments_lexer": "ipython3",
   "version": "3.11.11"
  }
 },
 "nbformat": 4,
 "nbformat_minor": 4
}
