{
 "cells": [
  {
   "cell_type": "code",
   "execution_count": 2,
   "metadata": {},
   "outputs": [],
   "source": [
    "# %pip install -e /Users/mvalatsou/PhD/Repos/BOREAS\n",
    "\n",
    "from __future__ import annotations\n",
    "from pathlib import Path\n",
    "import argparse\n",
    "import numpy as np\n",
    "\n",
    "from boreas.config import load_config_toml\n",
    "from boreas import ModelParams, MassLoss, Fractionation\n",
    "from boreas.config import apply_params_from_config, build_inputs_from_config, fractionation_runtime_args\n"
   ]
  },
  {
   "cell_type": "code",
   "execution_count": null,
   "metadata": {},
   "outputs": [],
   "source": [
    "def main(cfg_path: Path):\n",
    "    # --- load config ---\n",
    "    with cfg_path.open(\"rb\") as f:\n",
    "        cfg = tomllib.load(f)\n",
    "\n",
    "    # --- init ---\n",
    "    params = ModelParams()\n",
    "    fx_args = apply_params_from_config(cfg, params)\n",
    "    mass_loss = MassLoss(params)\n",
    "    fractionation = Fractionation(params)\n",
    "\n",
    "    # --- bulk inputs (mass[g], radius[cm], teq[K]) ---\n",
    "    mass, radius, teq = build_inputs_from_config(cfg, params)\n",
    "\n",
    "    # --- run ---\n",
    "    ml_results  = mass_loss.compute_mass_loss_parameters(mass, radius, teq)\n",
    "    frac_kwargs = fractionation_runtime_args(cfg)\n",
    "    f_results   = fractionation.execute(ml_results, mass_loss, **frac_kwargs)\n",
    "\n",
    "    r0 = f_results[0]\n",
    "    print(\"\\n Done.\")\n",
    "    print(\"Planet:\", fx_args[\"planet_name\"])\n",
    "    print(\"Regime:\", r0.get(\"regime\"),\n",
    "          \"RXUV[cm]:\", r0.get(\"RXUV\"),\n",
    "          \"Mdot[g/s]:\", r0.get(\"Mdot\"))\n",
    "    print(\"light_major:\", r0.get(\"light_major_i\"),\n",
    "          \"heavy_major:\", r0.get(\"heavy_major_j\"))\n",
    "    print(\"T_outflow[K]:\", r0.get(\"T_outflow\"),\n",
    "          \"mu_outflow:\", r0.get(\"mmw_outflow\"))\n",
    "\n",
    "if __name__ == \"__main__\":\n",
    "    # default to your K2-18 b example\n",
    "    default_cfg = Path(\"../examples/configs/k2-18b.toml\")\n",
    "    main(default_cfg)\n"
   ]
  },
  {
   "cell_type": "code",
   "execution_count": null,
   "metadata": {},
   "outputs": [],
   "source": [
    "# # pretty print a few fields\n",
    "# # print a tiny summary\n",
    "# r0 = f_results[0]\n",
    "# print(\"\\nDone.\")\n",
    "# print(\"Regime:\", r0.get(\"regime\"), \"  RXUV[cm]:\", r0.get(\"RXUV\"), \"  Mdot[g/s]:\", r0.get(\"Mdot\"))\n",
    "# print(\"light_major:\", r0.get(\"light_major_i\"), \"  heavy_major:\", r0.get(\"heavy_major_j\"))\n",
    "\n",
    "\n",
    "# # sol = [\n",
    "# #     \"planet\", \"Teq\", \"FXUV\", \"Mdot\", \"RXUV\", \"cs\", \"mmw_outflow\", \"T_outflow\",\n",
    "# #     \"phi_H_num\", \"phi_O_num\", \"phi_C_num\", \"phi_N_num\", \"phi_S_num\",\n",
    "# #     \"x_O\", \"x_C\", \"x_N\", \"x_S\",\n",
    "# #     \"regime\"\n",
    "# # ]"
   ]
  },
  {
   "cell_type": "code",
   "execution_count": null,
   "metadata": {},
   "outputs": [],
   "source": []
  }
 ],
 "metadata": {
  "kernelspec": {
   "display_name": "base",
   "language": "python",
   "name": "python3"
  },
  "language_info": {
   "codemirror_mode": {
    "name": "ipython",
    "version": 3
   },
   "file_extension": ".py",
   "mimetype": "text/x-python",
   "name": "python",
   "nbconvert_exporter": "python",
   "pygments_lexer": "ipython3",
   "version": "3.11.11"
  }
 },
 "nbformat": 4,
 "nbformat_minor": 4
}
